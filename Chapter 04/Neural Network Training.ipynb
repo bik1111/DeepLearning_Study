{
 "cells": [
  {
   "cell_type": "markdown",
   "id": "ba4279ed-43b3-401d-bc91-9668b3df7d70",
   "metadata": {},
   "source": [
    "## 4.2 손실 함수"
   ]
  },
  {
   "cell_type": "markdown",
   "id": "f64d2eec-0637-4b5e-a385-d6d8c47e1b26",
   "metadata": {},
   "source": [
    "신경망은 '하나의 특정한 지표'를 기준으로 최적의 매개변수 값을 탐색 <br>\n",
    "이 지표가 신겸망에서는 '손실 함수(loss function)' 이라고 칭한다. <br>\n",
    "손실 함수는 임의의 함수를 사용할 수도 있지만 일반적으로 오차제곱합과 교차 엔트로피 오차를 사용 <br>"
   ]
  },
  {
   "cell_type": "markdown",
   "id": "afa0ecf2-d8e3-4a36-b724-d8b0a8ba0aa4",
   "metadata": {},
   "source": [
    "손실 함수는 신경망 성능의 '나쁨'을 나타내는 지표<br>\n",
    "현재 신경망이 훈련 데이터를 엄라나 잘 처리하지 '못'하느냐를 측정 <br>"
   ]
  },
  {
   "cell_type": "markdown",
   "id": "c95a2e1f-eb70-4490-bb80-820f24e2534a",
   "metadata": {},
   "source": [
    "## 4.2.1 오차제곱합"
   ]
  },
  {
   "cell_type": "code",
   "execution_count": 1,
   "id": "ca1d97f9-d2bb-41a7-87db-44ac42200de1",
   "metadata": {},
   "outputs": [],
   "source": [
    "# 이미지가 해당 인덱스일 확률 의미. (ex. 이미지가 '1'일 확률은 0.05)\n",
    "y = [0.1, 0.05, 0.6, 0.0, 0.05, 0.1, 0.0, 0.1, 0.0, 0.0]\n",
    "# 정답 레이블 (one-hot encoding)\n",
    "t = [0, 0, 1, 0, 0, 0, 0, 0, 0, 0] "
   ]
  },
  {
   "cell_type": "code",
   "execution_count": 2,
   "id": "852f56b6-3fb7-44af-95cf-82f1bdd19e7b",
   "metadata": {},
   "outputs": [],
   "source": [
    "def sum_squares_error(y, t):\n",
    "    return 0.5 * np.sum((y-t)**2)"
   ]
  },
  {
   "cell_type": "code",
   "execution_count": 4,
   "id": "b1053b3a-a2bf-45f1-9672-0ae532dcc2ee",
   "metadata": {},
   "outputs": [
    {
     "data": {
      "text/plain": [
       "0.09750000000000003"
      ]
     },
     "execution_count": 4,
     "metadata": {},
     "output_type": "execute_result"
    }
   ],
   "source": [
    "import numpy as np\n",
    "sum_squares_error(np.array(y), np.array(t))"
   ]
  },
  {
   "cell_type": "code",
   "execution_count": 7,
   "id": "ea0c487b-436e-478a-be37-e5b06e6d96d2",
   "metadata": {},
   "outputs": [
    {
     "data": {
      "text/plain": [
       "0.5975"
      ]
     },
     "execution_count": 7,
     "metadata": {},
     "output_type": "execute_result"
    }
   ],
   "source": [
    "# '7'일 확률이 가장 높다고 추정 (0.6)\n",
    "y = [0.1, 0.05, 0.1, 0.0, 0.05, 0.1, 0.0, 0.6, 0.0, 0.0]\n",
    "sum_squares_error(np.array(y), np.array(t))"
   ]
  },
  {
   "cell_type": "markdown",
   "id": "77fe78fa-397a-4757-8b0b-018918030bee",
   "metadata": {},
   "source": [
    "## 4.2.2 교차 엔트로피 오차"
   ]
  },
  {
   "cell_type": "markdown",
   "id": "e18d10d7-6512-48b0-bc60-2851108f61a1",
   "metadata": {},
   "source": [
    "교차 엔트포리의 오차는 정답일 때의 출력이 전체 값을 정한다. <br>\n"
   ]
  },
  {
   "cell_type": "code",
   "execution_count": 9,
   "id": "817cfb89-506a-47f6-b952-96f275b37d1b",
   "metadata": {},
   "outputs": [],
   "source": [
    "def cross_entropy_error(y, t):\n",
    "    delta = 1e-7\n",
    "    # log0은 inf이므로, 아주 작은 값인 delta를 더한다.\n",
    "    return -np.sum(t * np.log(y+delta))"
   ]
  },
  {
   "cell_type": "code",
   "execution_count": 10,
   "id": "f4297850-1e7f-4335-880f-502979cd3e96",
   "metadata": {},
   "outputs": [
    {
     "data": {
      "text/plain": [
       "2.302584092994546"
      ]
     },
     "execution_count": 10,
     "metadata": {},
     "output_type": "execute_result"
    }
   ],
   "source": [
    "t = [0, 0, 1, 0, 0, 0, 0, 0, 0, 0]\n",
    "y = [0.1, 0.05, 0.1, 0.0, 0.05, 0.1, 0.0, 0.6, 0.0, 0.0]\n",
    "cross_entropy_error(np.array(y), np.array(t))"
   ]
  },
  {
   "cell_type": "code",
   "execution_count": 12,
   "id": "01fa737d-a78d-43cd-bf89-a264c7242f7f",
   "metadata": {},
   "outputs": [
    {
     "data": {
      "text/plain": [
       "0.510825457099338"
      ]
     },
     "execution_count": 12,
     "metadata": {},
     "output_type": "execute_result"
    }
   ],
   "source": [
    "t = [0, 0, 1, 0, 0, 0, 0, 0, 0, 0]\n",
    "y = [0.1, 0.05, 0.6, 0.0, 0.05, 0.1, 0.0, 0.1, 0.0, 0.0]\n",
    "cross_entropy_error(np.array(y), np.array(t))"
   ]
  },
  {
   "cell_type": "markdown",
   "id": "e81b2e11-da5a-4ff8-8f6e-88b87faa901c",
   "metadata": {},
   "source": [
    "## 4.2.3 미니배치 학습"
   ]
  },
  {
   "cell_type": "code",
   "execution_count": 15,
   "id": "c4d7516f-1458-4240-95ba-72501ca84383",
   "metadata": {},
   "outputs": [
    {
     "name": "stdout",
     "output_type": "stream",
     "text": [
      "X_train shape =  (60000, 784)\n",
      "y_train shape =  (60000, 10)\n"
     ]
    }
   ],
   "source": [
    "import numpy as np\n",
    "import pickle\n",
    "from dataset.mnist import load_mnist\n",
    "\n",
    "(X_train, y_train), (X_test, y_test) = load_mnist(one_hot_label=True, normalize=False)\n",
    "print('X_train shape = ',X_train.shape)\n",
    "print('y_train shape = ',y_train.shape)"
   ]
  },
  {
   "cell_type": "code",
   "execution_count": 19,
   "id": "5b65c6d4-5f06-481b-bd41-0ac5ea1b79b4",
   "metadata": {},
   "outputs": [],
   "source": [
    "# 무작위 10장 추출 (minibatch)\n",
    "train_size = X_train.shape[0]\n",
    "batch_size = 10\n",
    "batch_mask = np.random.choice(train_size, batch_size)\n",
    "x_batch = X_train[batch_mask]\n",
    "y_batch = y_train[batch_mask]"
   ]
  },
  {
   "cell_type": "markdown",
   "id": "93af5f32-260a-4872-a22c-8863c415879c",
   "metadata": {},
   "source": [
    "## 4.2.4 (배치용) 교차 엔트로피 오차 구현하기"
   ]
  },
  {
   "cell_type": "code",
   "execution_count": 24,
   "id": "2776d2fe-6456-41e2-837e-a8afa00501d8",
   "metadata": {},
   "outputs": [],
   "source": [
    "def cross_entrophy_error(y, t):\n",
    "    # y가 1차원 즉, 데이터 하나라면 reshape 함수로 데이터 형상 변환.\n",
    "    if y.ndin == 1:\n",
    "        t = t.reshape(1, t.size)\n",
    "        y = y.reshape(1, y.size)\n",
    "\n",
    "    batch_size = y.shape[0]\n",
    "    return -np.sum(t * np.log(y + 1e-7)) / batch_size"
   ]
  },
  {
   "cell_type": "code",
   "execution_count": 36,
   "id": "0d2605da-670b-4dd2-9422-647d8c857bc2",
   "metadata": {},
   "outputs": [],
   "source": [
    "# 정답 레이블이 원-핫 인코딩이 아닌 경우\n",
    "\n",
    "def cross_entropy_error(y, t):\n",
    "    if y.ndim == 1:\n",
    "        t = t.reshape(1, t.size)\n",
    "        y = y.reshape(1, y.size)\n",
    "\n",
    "    batch_size = y.shape[0]\n",
    "    return -np.sum(np.log(y[np.arange(batch_size), t] + 1e-7)) / batch_size"
   ]
  },
  {
   "cell_type": "markdown",
   "id": "48fa9efd-9106-4fff-a55a-c4b5e15b6200",
   "metadata": {},
   "source": [
    "## 4.2.5 왜 손실 함수를 설정하는가?"
   ]
  },
  {
   "cell_type": "markdown",
   "id": "3018c263-cb90-4052-a386-0cd1b8ddc199",
   "metadata": {},
   "source": [
    "신경망 학습에서의 '미분'의 역할에 주목하자 <br>\n",
    "신경망 학습에서는 최적의 매개변수(가중치와 편향)를 탐색 할 때 손실함수의 값을 가능한 작게 하는 매개변수 값을 찾는 것 <br>\n",
    "매개변수의 미분(정확히는 기울기)을 계산하고, 그 미분 값을 단서로 매개변수의 값을 서서히 갱신하는 과정 반복 <br>\n",
    "가중치 매개변수의 손실 함수의 미분이란 '가중치 매개변수의 값을 아주 조금 변화 시켰을 때, 손실 함수가 어떻게 변하나' 라는 의미 <br>\n",
    "<br>\n",
    "정확도를 지표로 삼아서는 안되는 이유 -> 대부분의 장소에서 미분값이 0이 될 시 매개변수를 갱신할 수 없음 "
   ]
  },
  {
   "cell_type": "markdown",
   "id": "bbcad037-9781-4e8c-8929-2bf8c660ce2a",
   "metadata": {},
   "source": [
    "## 4.4.1 경사법(경사 하강법)"
   ]
  },
  {
   "cell_type": "markdown",
   "id": "c56c128f-045b-43b6-838f-b4f374534b3e",
   "metadata": {},
   "source": [
    "기계학습 문제 대부분은 학습 단계에서 최적의 매개변수를 찾아낸다 <br>\n",
    "여기에서 최적이란 손실 함수가 최솟값이 될 때의 매개변수 값. <br>\n",
    "그러나 주의할 점은 각 지점에서 함수의 값을 낮추는 방안을 제시하는 지표가 '기울기'라는 것 <br>\n",
    "해당 기울기가 가리키는 곳에 정말 함수의 최솟값이 존재하는지 보장 X <br>\n",
    "\n",
    "<br>\n",
    "경사법은 현 위치에서 기울어진 방향으로 일정 거리만큼 이동 <br>\n"
   ]
  }
 ],
 "metadata": {
  "kernelspec": {
   "display_name": "Python 3 (ipykernel)",
   "language": "python",
   "name": "python3"
  },
  "language_info": {
   "codemirror_mode": {
    "name": "ipython",
    "version": 3
   },
   "file_extension": ".py",
   "mimetype": "text/x-python",
   "name": "python",
   "nbconvert_exporter": "python",
   "pygments_lexer": "ipython3",
   "version": "3.11.6"
  }
 },
 "nbformat": 4,
 "nbformat_minor": 5
}
