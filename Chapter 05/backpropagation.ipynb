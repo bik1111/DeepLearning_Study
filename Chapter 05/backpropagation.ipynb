{
 "cells": [
  {
   "cell_type": "markdown",
   "id": "e17613be-0a86-4b1a-9e95-cddeea9a26ae",
   "metadata": {},
   "source": [
    "## Backpropagation (오차역전파)"
   ]
  },
  {
   "cell_type": "markdown",
   "id": "b91decc3-3781-487f-892a-d2efe0dd3dce",
   "metadata": {},
   "source": [
    "## 5.4.1 곱셈 계층"
   ]
  },
  {
   "cell_type": "code",
   "execution_count": 2,
   "id": "cdded74b-3bab-48c1-be42-3277396a460c",
   "metadata": {},
   "outputs": [],
   "source": [
    "class MulLayer:\n",
    "    def __init__(self):\n",
    "        self.x = None\n",
    "        self.y = None\n",
    "\n",
    "    def forward(self, x, y):\n",
    "        self.x = x\n",
    "        self.y = y\n",
    "        out = x * y\n",
    "    \n",
    "        return out\n",
    "\n",
    "    def backward(self, dout):\n",
    "        dx = dout * self.y # x와y를 바꾼다.\n",
    "        dy = dout * self.x \n",
    "\n",
    "        return dx, dy\n",
    "    "
   ]
  },
  {
   "cell_type": "code",
   "execution_count": 3,
   "id": "9f0eab0f-a9f7-4138-9fd3-38ac93357c6b",
   "metadata": {},
   "outputs": [
    {
     "name": "stdout",
     "output_type": "stream",
     "text": [
      "220\n"
     ]
    }
   ],
   "source": [
    "apple = 100\n",
    "apple_num = 2\n",
    "tax = 1.1\n",
    "\n",
    "# 계층들\n",
    "mul_apple_layer = MulLayer()\n",
    "mul_tax_layer = MulLayer()\n",
    "\n",
    "# 순전파\n",
    "apple_price = mul_apple_layer.forward(apple, apple_num)\n",
    "price = mul_tax_layer.forward(apple_price, tax)\n",
    "\n",
    "print(int(price))"
   ]
  },
  {
   "cell_type": "markdown",
   "id": "9fd9cb2e-dfed-4a14-9e2d-442d07764115",
   "metadata": {},
   "source": [
    "## 5.4.2 덧셈 계층"
   ]
  },
  {
   "cell_type": "code",
   "execution_count": 4,
   "id": "bc3e74c4-b394-4aad-8242-ade3653ff632",
   "metadata": {},
   "outputs": [],
   "source": [
    "class AddLayer:\n",
    "    def __init__(self):\n",
    "        pass\n",
    "\n",
    "    def forward(self, x, y):\n",
    "        out = x + y\n",
    "        return out\n",
    "\n",
    "    def backward(self, dout):\n",
    "        dx = dout * 1\n",
    "        dy = dout * 1\n",
    "        return dx, dy"
   ]
  },
  {
   "cell_type": "code",
   "execution_count": 24,
   "id": "1d7e39da-a98b-4e98-b2db-d2a660315469",
   "metadata": {},
   "outputs": [
    {
     "name": "stdout",
     "output_type": "stream",
     "text": [
      "715\n",
      "dall_price ->  1.1\n",
      "dtax ->  650\n",
      "dapple_price ->  1.1\n",
      "dorange_price ->  1.1\n",
      "dorange ->  3\n",
      "dorange_num ->  165\n",
      "dapple ->  2.2\n",
      "dapple_num ->  110\n"
     ]
    }
   ],
   "source": [
    "apple = 100\n",
    "apple_num = 2\n",
    "orange = 150\n",
    "orange_num = 3\n",
    "tax = 1.1\n",
    "\n",
    "# 계층들\n",
    "mul_apple_layer = MulLayer()\n",
    "mul_orange_layer = MulLayer()\n",
    "add_apple_orange_layer = AddLayer()\n",
    "mul_tax_layer = MulLayer()\n",
    "\n",
    "\n",
    "# 순전파\n",
    "apple_price = mul_apple_layer.forward(apple, apple_num)\n",
    "orange_price = mul_orange_layer.forward(orange, orange_num)\n",
    "all_price = add_apple_orange_layer.forward(apple_price, orange_price)\n",
    "price = mul_tax_layer.forward(all_price, tax)\n",
    "\n",
    "print(int(price))\n",
    "\n",
    "\n",
    "# 역전파\n",
    "dprice = 1\n",
    "dall_price, dtax = mul_tax_layer.backward(dprice)\n",
    "print(\"dall_price -> \", dall_price)\n",
    "print(\"dtax -> \", dtax)\n",
    "\n",
    "dapple_price, dorange_price = add_apple_orange_layer.backward(dall_price)\n",
    "print(\"dapple_price -> \", dapple_price)\n",
    "print(\"dorange_price -> \", dorange_price)\n",
    "\n",
    "dorange, dorange_num = mul_orange_layer.backward(dorange_price)\n",
    "print(\"dorange -> \", int(dorange))\n",
    "print(\"dorange_num -> \", int(dorange_num))\n",
    "\n",
    "dapple, dapple_num = mul_apple_layer.backward(dapple_price)\n",
    "print(\"dapple -> \", dapple)\n",
    "print(\"dapple_num -> \", int(dapple_num))"
   ]
  },
  {
   "cell_type": "markdown",
   "id": "d50e9024-d1a3-4886-bc0b-e77af28b35b5",
   "metadata": {},
   "source": [
    "## 5.5 활성화 함수 계층 구현하기"
   ]
  },
  {
   "cell_type": "code",
   "execution_count": 25,
   "id": "2bb5acd0-6631-411e-b8b5-9107f4ba8e21",
   "metadata": {},
   "outputs": [],
   "source": [
    "class Relu:\n",
    "\n",
    "    def __init__(self):\n",
    "        # T/F로 구성된 넘파이 배열\n",
    "        # 순전파 입력인 x의 원소 값이 0 이하인 인덱스는 True.\n",
    "        # 그 외 (0보다 큰 원소)는 False.\n",
    "        self.mask = None\n",
    "\n",
    "    def forward(self, x):\n",
    "        self.mask = (x <= 0)\n",
    "        out = x.copy()\n",
    "        out[self.mask] = 0\n",
    "\n",
    "        return out\n",
    "\n",
    "    def backward(self, dout):\n",
    "        dout[self.mask] = 0\n",
    "        dx = dout\n",
    "        \n",
    "        return dx\n",
    "\n"
   ]
  },
  {
   "cell_type": "code",
   "execution_count": 30,
   "id": "b9f2c128-c706-4cb7-82a4-3fd479610663",
   "metadata": {},
   "outputs": [
    {
     "name": "stdout",
     "output_type": "stream",
     "text": [
      "[[ 1.  -0.5]\n",
      " [-2.   3. ]]\n"
     ]
    },
    {
     "data": {
      "text/plain": [
       "array([[False,  True],\n",
       "       [ True, False]])"
      ]
     },
     "execution_count": 30,
     "metadata": {},
     "output_type": "execute_result"
    }
   ],
   "source": [
    "import numpy as np\n",
    "\n",
    "x = np.array( [[1.0, -0.5], [-2.0, 3.0]])\n",
    "print(x)\n",
    "\n",
    "mask = ( x <= 0 )\n",
    "mask"
   ]
  },
  {
   "cell_type": "markdown",
   "id": "ef1d4fb0-e660-4f30-a08a-11d5ad0cdf43",
   "metadata": {},
   "source": [
    "## 5.5.2 Sigmoid 계층"
   ]
  },
  {
   "cell_type": "code",
   "execution_count": 31,
   "id": "6aeaeeb1-a631-4386-b005-d9637110239d",
   "metadata": {},
   "outputs": [],
   "source": [
    "class Sigmoid:\n",
    "    def __init__(self):\n",
    "        self.out = None\n",
    "\n",
    "    def forward(self, x):\n",
    "        out = 1 / (1 + np.exp(-x))\n",
    "        self.out = out\n",
    "\n",
    "        return out\n",
    "\n",
    "    def backward(self, dout):\n",
    "        # dσ(x)/dx = σ(x)⋅(1−σ(x))\n",
    "        dx = dout * (1.0 - self.out) * self.out\n",
    "        return dx"
   ]
  },
  {
   "cell_type": "markdown",
   "id": "8a959c47-f618-40ea-97fb-bea64455521b",
   "metadata": {},
   "source": [
    "## 5.6 Affine/Softmax 계층 구현하기"
   ]
  },
  {
   "cell_type": "code",
   "execution_count": 33,
   "id": "1f3b9e9c-ab57-4c0f-8cb6-c58284a288da",
   "metadata": {},
   "outputs": [
    {
     "name": "stdout",
     "output_type": "stream",
     "text": [
      "[[ 0  0  0]\n",
      " [10 10 10]]\n",
      "[[ 1  2  3]\n",
      " [11 12 13]]\n"
     ]
    }
   ],
   "source": [
    "X_dot_W = np.array([[0,0,0], [10,10,10]])\n",
    "B = np.array([1,2,3])\n",
    "\n",
    "print(X_dot_W)\n",
    "print(X_dot_W + B)"
   ]
  },
  {
   "cell_type": "code",
   "execution_count": 34,
   "id": "42a524ec-8810-4549-b88c-459a9b2c0f96",
   "metadata": {},
   "outputs": [
    {
     "data": {
      "text/plain": [
       "array([[1, 2, 3],\n",
       "       [4, 5, 6]])"
      ]
     },
     "execution_count": 34,
     "metadata": {},
     "output_type": "execute_result"
    }
   ],
   "source": [
    "dY = np.array([[1,2,3], [4,5,6]])\n",
    "dY"
   ]
  },
  {
   "cell_type": "code",
   "execution_count": 36,
   "id": "16c8c8da-2829-499e-9567-feeb6427e084",
   "metadata": {},
   "outputs": [
    {
     "data": {
      "text/plain": [
       "array([5, 7, 9])"
      ]
     },
     "execution_count": 36,
     "metadata": {},
     "output_type": "execute_result"
    }
   ],
   "source": [
    "# axis=0은 열 방향으로 합을 계산\n",
    "dB = np.sum(dY, axis=0)\n",
    "dB"
   ]
  },
  {
   "cell_type": "code",
   "execution_count": 37,
   "id": "34aa79c8-b0fb-41a1-97cc-a64b5cb1f03d",
   "metadata": {},
   "outputs": [],
   "source": [
    "class Affine:\n",
    "    def __init__(self, W, b):\n",
    "        self.W = W\n",
    "        self.b = b\n",
    "        self.x = None\n",
    "        self.dW = None\n",
    "        self.db = None\n",
    "\n",
    "    def forward(self, x):\n",
    "        self.x = x\n",
    "        out = np.dot(x, self.W) + self.b\n",
    "\n",
    "        return out\n",
    "\n",
    "    # dout => 이전 레이어로부터 전달된 그래디언트(기울기)\n",
    "    def backward(self, dout):\n",
    "        dx = np.dot(dout, self.W.T)\n",
    "        self.dW = np.dot(self.x.T, dout)\n",
    "        self.db = np.sum(dout, axis=0)\n",
    "    \n",
    "        return dx\n"
   ]
  },
  {
   "cell_type": "markdown",
   "id": "4ef1725a-ddeb-41d7-ae4e-de4121a3b811",
   "metadata": {},
   "source": [
    "## 5.6.3 Softmax - with - Loss 계층"
   ]
  },
  {
   "cell_type": "markdown",
   "id": "95e6eeb3-886c-4691-9191-ce10337bb3a8",
   "metadata": {},
   "source": [
    "Softmax 계층은 입력 (a1,a2,a3)를 정규화하여 (y1,y2,y3)를 출력  <br>\n",
    "Cross Entropy Error 계층은 Softmax의 출력 (y1,y2,y3)와 정답 레이블 (t1,t2,t3)를 받고, 이 데이터들로부터 손실 L을 출력"
   ]
  },
  {
   "cell_type": "markdown",
   "id": "a7b69e9b-d81c-4046-b862-1d9fb44c06a3",
   "metadata": {},
   "source": [
    "예를들어, 정답 레이블이 (0,1,0) 일 때 SoftMax 계층이 (0.3, 0.2, 0.5)를 출력 <br>\n",
    "정답 레이블의 인덱스는 1 <br>\n",
    "그런데 출력에서는 이때의 확률이 0.2에 불과 <br>\n",
    "Softmax 계층의 역전파는 (0.3, -0.8, 0.5)라는 큰 오차를 전파 <br>  --> (0.3-0, 0.2-1, 0.5-0) <br>\n",
    "결과적으로, Softmax 계층의 앞 계층들은 그 큰 오차로부터 더 크게 움직임 (학습 정도가 커짐)\n"
   ]
  },
  {
   "cell_type": "code",
   "execution_count": 38,
   "id": "caa6e60e-3221-4cc4-b249-7e87e6290e3f",
   "metadata": {},
   "outputs": [],
   "source": [
    "class SoftmaxWithLoss:\n",
    "    def __init__(self):\n",
    "        self.loss = None #손실\n",
    "        self.y = None #softmax 출력\n",
    "        self.t = None #정답 레이블 (ont-hot encoding)\n",
    "\n",
    "    def forward(self, x, t):\n",
    "        self.t = t\n",
    "        self.y = softmax(x)\n",
    "        self.loss = cross_entropy_error(self.y, self.t)\n",
    "        return self.loss\n",
    "\n",
    "    def backward(self, dout=1):\n",
    "        batch_size = self.t.shape[0]\n",
    "        # 역전파 때는 전파하는 값을 배치의 수로 나눠 데이터 \"1개당\" 오차를 앞 계층으로 전파.\n",
    "        dx = (self.y - self.t) / batch_size\n",
    "        return dx"
   ]
  },
  {
   "cell_type": "code",
   "execution_count": null,
   "id": "6c16b101-86d8-402e-ac06-6e1848bd90f7",
   "metadata": {},
   "outputs": [],
   "source": []
  }
 ],
 "metadata": {
  "kernelspec": {
   "display_name": "Python 3 (ipykernel)",
   "language": "python",
   "name": "python3"
  },
  "language_info": {
   "codemirror_mode": {
    "name": "ipython",
    "version": 3
   },
   "file_extension": ".py",
   "mimetype": "text/x-python",
   "name": "python",
   "nbconvert_exporter": "python",
   "pygments_lexer": "ipython3",
   "version": "3.11.6"
  }
 },
 "nbformat": 4,
 "nbformat_minor": 5
}
